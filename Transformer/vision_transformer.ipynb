{
  "nbformat": 4,
  "nbformat_minor": 0,
  "metadata": {
    "colab": {
      "name": "vision transformer",
      "provenance": [],
      "collapsed_sections": []
    },
    "environment": {
      "name": "tf2-gpu.2-4.m61",
      "type": "gcloud",
      "uri": "gcr.io/deeplearning-platform-release/tf2-gpu.2-4:m61"
    },
    "kernelspec": {
      "display_name": "Python 3",
      "language": "python",
      "name": "python3"
    },
    "language_info": {
      "codemirror_mode": {
        "name": "ipython",
        "version": 3
      },
      "file_extension": ".py",
      "mimetype": "text/x-python",
      "name": "python",
      "nbconvert_exporter": "python",
      "pygments_lexer": "ipython3",
      "version": "3.7.9"
    }
  },
  "cells": [
    {
      "cell_type": "markdown",
      "metadata": {
        "id": "yOhuhsfF5NvP"
      },
      "source": [
        "## Setup"
      ]
    },
    {
      "cell_type": "code",
      "metadata": {
        "id": "xeAFhTkn7utl"
      },
      "source": [
        "# !pip install tensorflow-addons"
      ],
      "execution_count": null,
      "outputs": []
    },
    {
      "cell_type": "code",
      "metadata": {
        "id": "zvCUDzB35NvP"
      },
      "source": [
        "import numpy as np\n",
        "import tensorflow as tf\n",
        "from tensorflow import keras\n",
        "from tensorflow.keras import layers\n",
        "import tensorflow_addons as tfa"
      ],
      "execution_count": null,
      "outputs": []
    },
    {
      "cell_type": "markdown",
      "metadata": {
        "id": "8VsnQRC25NvQ"
      },
      "source": [
        "## Prepare the data"
      ]
    },
    {
      "cell_type": "code",
      "metadata": {
        "id": "6gj5qi-d5NvQ",
        "colab": {
          "base_uri": "https://localhost:8080/"
        },
        "outputId": "d8037834-7448-4a06-de63-f35a14647b63"
      },
      "source": [
        "num_classes = 2\n",
        "input_shape = (32, 32, 3)\n",
        "\n",
        "data = np.load('/content/data.txt.npy')\n",
        "labels = np.load('/content/labels.txt.npy')\n",
        "\n",
        "from sklearn.model_selection import train_test_split\n",
        "X_train, X_test, y_train, y_test = train_test_split(data, labels, test_size=0.2,\n",
        "                                                random_state=42)\n",
        "\n",
        "y_train = y_train.reshape((-1, 1))\n",
        "y_test = y_test.reshape((-1, 1))\n",
        "\n",
        "print(f\"x_train shape: {X_train.shape} - y_train shape: {y_train.shape}\")\n",
        "print(f\"x_test shape: {X_test.shape} - y_test shape: {y_test.shape}\")\n"
      ],
      "execution_count": null,
      "outputs": [
        {
          "output_type": "stream",
          "name": "stdout",
          "text": [
            "x_train shape: (928, 32, 32, 3) - y_train shape: (928, 1)\n",
            "x_test shape: (232, 32, 32, 3) - y_test shape: (232, 1)\n"
          ]
        }
      ]
    },
    {
      "cell_type": "markdown",
      "metadata": {
        "id": "7dK-gt8j5NvR"
      },
      "source": [
        "## Configure the hyperparameters"
      ]
    },
    {
      "cell_type": "code",
      "metadata": {
        "id": "7E1gNHXm5NvS"
      },
      "source": [
        "learning_rate = 0.001\n",
        "weight_decay = 0.0001\n",
        "batch_size = 256\n",
        "num_epochs = 100\n",
        "image_size = 72  # We'll resize input images to this size\n",
        "patch_size = 6  # Size of the patches to be extract from the input images\n",
        "num_patches = (image_size // patch_size) ** 2\n",
        "projection_dim = 64\n",
        "num_heads = 4\n",
        "transformer_units = [\n",
        "    projection_dim * 2,\n",
        "    projection_dim,\n",
        "]  # Size of the transformer layers\n",
        "transformer_layers = 8\n",
        "mlp_head_units = [2048, 1024]  # Size of the dense layers of the final classifier\n"
      ],
      "execution_count": null,
      "outputs": []
    },
    {
      "cell_type": "markdown",
      "metadata": {
        "id": "veKJsqNU5NvS"
      },
      "source": [
        "## Use data augmentation"
      ]
    },
    {
      "cell_type": "code",
      "metadata": {
        "id": "IAlApmhs5NvT"
      },
      "source": [
        "data_augmentation = keras.Sequential(\n",
        "    [\n",
        "        layers.Normalization(),\n",
        "        layers.Resizing(image_size, image_size),\n",
        "        layers.RandomFlip(\"horizontal\"),\n",
        "        layers.RandomRotation(factor=0.02),\n",
        "        layers.RandomZoom(\n",
        "            height_factor=0.2, width_factor=0.2\n",
        "        ),\n",
        "    ],\n",
        "    name=\"data_augmentation\",\n",
        ")\n",
        "# Compute the mean and the variance of the training data for normalization.\n",
        "data_augmentation.layers[0].adapt(X_train)\n"
      ],
      "execution_count": null,
      "outputs": []
    },
    {
      "cell_type": "markdown",
      "metadata": {
        "id": "m7VmMHVw5NvU"
      },
      "source": [
        "## Implement multilayer perceptron (MLP)"
      ]
    },
    {
      "cell_type": "code",
      "metadata": {
        "id": "_RlhKWk_5NvU"
      },
      "source": [
        "\n",
        "def mlp(x, hidden_units, dropout_rate):\n",
        "    for units in hidden_units:\n",
        "        x = layers.Dense(units, activation=tf.nn.gelu)(x)\n",
        "        x = layers.Dropout(dropout_rate)(x)\n",
        "    return x\n"
      ],
      "execution_count": null,
      "outputs": []
    },
    {
      "cell_type": "markdown",
      "metadata": {
        "id": "T8vZlYTz5NvU"
      },
      "source": [
        "## Implement patch creation as a layer"
      ]
    },
    {
      "cell_type": "code",
      "metadata": {
        "id": "_zp_0xB95NvU"
      },
      "source": [
        "\n",
        "class Patches(layers.Layer):\n",
        "    def __init__(self, patch_size):\n",
        "        super(Patches, self).__init__()\n",
        "        self.patch_size = patch_size\n",
        "\n",
        "    def call(self, images):\n",
        "        batch_size = tf.shape(images)[0]\n",
        "        patches = tf.image.extract_patches(\n",
        "            images=images,\n",
        "            sizes=[1, self.patch_size, self.patch_size, 1],\n",
        "            strides=[1, self.patch_size, self.patch_size, 1],\n",
        "            rates=[1, 1, 1, 1],\n",
        "            padding=\"VALID\",\n",
        "        )\n",
        "        patch_dims = patches.shape[-1]\n",
        "        patches = tf.reshape(patches, [batch_size, -1, patch_dims])\n",
        "        return patches\n"
      ],
      "execution_count": null,
      "outputs": []
    },
    {
      "cell_type": "markdown",
      "metadata": {
        "id": "OeOQyhF15NvV"
      },
      "source": [
        "Let's display patches for a sample image"
      ]
    },
    {
      "cell_type": "code",
      "metadata": {
        "id": "I-CO8n_D5NvV",
        "colab": {
          "base_uri": "https://localhost:8080/",
          "height": 549
        },
        "outputId": "80a9004a-0a0b-4616-c053-7f4de25b0a68"
      },
      "source": [
        "import matplotlib.pyplot as plt\n",
        "\n",
        "plt.figure(figsize=(4, 4))\n",
        "image = X_train[np.random.choice(range(X_train.shape[0]))]\n",
        "plt.imshow(image.astype(\"uint8\"))\n",
        "plt.axis(\"off\")\n",
        "\n",
        "resized_image = tf.image.resize(\n",
        "    tf.convert_to_tensor([image]), size=(image_size, image_size)\n",
        ")\n",
        "patches = Patches(patch_size)(resized_image)\n",
        "print(f\"Image size: {image_size} X {image_size}\")\n",
        "print(f\"Patch size: {patch_size} X {patch_size}\")\n",
        "print(f\"Patches per image: {patches.shape[1]}\")\n",
        "print(f\"Elements per patch: {patches.shape[-1]}\")\n",
        "\n",
        "n = int(np.sqrt(patches.shape[1]))\n",
        "plt.figure(figsize=(4, 4))\n",
        "for i, patch in enumerate(patches[0]):\n",
        "    ax = plt.subplot(n, n, i + 1)\n",
        "    patch_img = tf.reshape(patch, (patch_size, patch_size, 3))\n",
        "    plt.imshow(patch_img.numpy().astype(\"uint8\"))\n",
        "    plt.axis(\"off\")"
      ],
      "execution_count": null,
      "outputs": [
        {
          "output_type": "stream",
          "name": "stdout",
          "text": [
            "Image size: 72 X 72\n",
            "Patch size: 6 X 6\n",
            "Patches per image: 144\n",
            "Elements per patch: 108\n"
          ]
        },
        {
          "output_type": "display_data",
          "data": {
            "image/png": "[encoded data removed]",
            "text/plain": [
              "<Figure size 288x288 with 1 Axes>"
            ]
          },
          "metadata": {
            "needs_background": "light"
          }
        },
        {
          "output_type": "display_data",
          "data": {
            "image/png": "[encoded data removed]",
            "text/plain": [
              "<Figure size 288x288 with 144 Axes>"
            ]
          },
          "metadata": {
            "needs_background": "light"
          }
        }
      ]
    },
    {
      "cell_type": "markdown",
      "metadata": {
        "id": "lUtLOumc5NvV"
      },
      "source": [
        "## Implement the patch encoding layer\n",
        "\n",
        "The `PatchEncoder` layer will linearly transform a patch by projecting it into a\n",
        "vector of size `projection_dim`. In addition, it adds a learnable position\n",
        "embedding to the projected vector."
      ]
    },
    {
      "cell_type": "code",
      "metadata": {
        "id": "2PwCGDfD5NvW"
      },
      "source": [
        "\n",
        "class PatchEncoder(layers.Layer):\n",
        "    def __init__(self, num_patches, projection_dim):\n",
        "        super(PatchEncoder, self).__init__()\n",
        "        self.num_patches = num_patches\n",
        "        self.projection = layers.Dense(units=projection_dim)\n",
        "        self.position_embedding = layers.Embedding(\n",
        "            input_dim=num_patches, output_dim=projection_dim\n",
        "        )\n",
        "\n",
        "    def call(self, patch):\n",
        "        positions = tf.range(start=0, limit=self.num_patches, delta=1)\n",
        "        encoded = self.projection(patch) + self.position_embedding(positions)\n",
        "        return encoded\n"
      ],
      "execution_count": null,
      "outputs": []
    },
    {
      "cell_type": "markdown",
      "metadata": {
        "id": "ntYaRcHF5NvW"
      },
      "source": [
        "## Build the ViT model\n",
        "\n",
        "The ViT model consists of multiple Transformer blocks,\n",
        "which use the `layers.MultiHeadAttention` layer as a self-attention mechanism\n",
        "applied to the sequence of patches. The Transformer blocks produce a\n",
        "`[batch_size, num_patches, projection_dim]` tensor, which is processed via an\n",
        "classifier head with softmax to produce the final class probabilities output.\n",
        "\n",
        "Unlike the technique described in the [paper](https://arxiv.org/abs/2010.11929),\n",
        "which prepends a learnable embedding to the sequence of encoded patches to serve\n",
        "as the image representation, all the outputs of the final Transformer block are\n",
        "reshaped with `layers.Flatten()` and used as the image\n",
        "representation input to the classifier head.\n",
        "Note that the `layers.GlobalAveragePooling1D` layer\n",
        "could also be used instead to aggregate the outputs of the Transformer block,\n",
        "especially when the number of patches and the projection dimensions are large."
      ]
    },
    {
      "cell_type": "code",
      "metadata": {
        "id": "C0kCKnTE5NvW"
      },
      "source": [
        "\n",
        "def create_vit_classifier():\n",
        "    inputs = layers.Input(shape=input_shape)\n",
        "    # Augment data.\n",
        "    augmented = data_augmentation(inputs)\n",
        "    # Create patches.\n",
        "    patches = Patches(patch_size)(augmented)\n",
        "    # Encode patches.\n",
        "    encoded_patches = PatchEncoder(num_patches, projection_dim)(patches)\n",
        "\n",
        "    # Create multiple layers of the Transformer block.\n",
        "    for _ in range(transformer_layers):\n",
        "        # Layer normalization 1.\n",
        "        x1 = layers.LayerNormalization(epsilon=1e-6)(encoded_patches)\n",
        "        # Create a multi-head attention layer.\n",
        "        attention_output = layers.MultiHeadAttention(\n",
        "            num_heads=num_heads, key_dim=projection_dim, dropout=0.1\n",
        "        )(x1, x1)\n",
        "        # Skip connection 1.\n",
        "        x2 = layers.Add()([attention_output, encoded_patches])\n",
        "        # Layer normalization 2.\n",
        "        x3 = layers.LayerNormalization(epsilon=1e-6)(x2)\n",
        "        # MLP.\n",
        "        x3 = mlp(x3, hidden_units=transformer_units, dropout_rate=0.1)\n",
        "        # Skip connection 2.\n",
        "        encoded_patches = layers.Add()([x3, x2])\n",
        "\n",
        "    # Create a [batch_size, projection_dim] tensor.\n",
        "    representation = layers.LayerNormalization(epsilon=1e-6)(encoded_patches)\n",
        "    representation = layers.Flatten()(representation)\n",
        "    representation = layers.Dropout(0.5)(representation)\n",
        "    # Add MLP.\n",
        "    features = mlp(representation, hidden_units=mlp_head_units, dropout_rate=0.5)\n",
        "    # Classify outputs.\n",
        "    logits = layers.Dense(num_classes)(features)\n",
        "    # Create the Keras model.\n",
        "    model = keras.Model(inputs=inputs, outputs=logits)\n",
        "    return model\n"
      ],
      "execution_count": null,
      "outputs": []
    },
    {
      "cell_type": "markdown",
      "metadata": {
        "id": "OjC5gqQ_5NvX"
      },
      "source": [
        "## Compile, train, and evaluate the mode"
      ]
    },
    {
      "cell_type": "code",
      "metadata": {
        "id": "5Wtes2QE5NvX",
        "colab": {
          "base_uri": "https://localhost:8080/"
        },
        "outputId": "563d4fd4-6752-45af-f92f-fe73f53cd68a"
      },
      "source": [
        "\n",
        "def run_experiment(model):\n",
        "    optimizer = tfa.optimizers.AdamW(\n",
        "        learning_rate=learning_rate, weight_decay=weight_decay\n",
        "    )\n",
        "\n",
        "    model.compile(\n",
        "        optimizer=optimizer,\n",
        "        loss=keras.losses.SparseCategoricalCrossentropy(from_logits=True),\n",
        "        metrics=[\n",
        "            keras.metrics.SparseCategoricalAccuracy(name=\"accuracy\"),\n",
        "            keras.metrics.SparseTopKCategoricalAccuracy(5, name=\"top-5-accuracy\"),\n",
        "        ],\n",
        "    )\n",
        "\n",
        "    checkpoint_filepath = \"/tmp/checkpoint\"\n",
        "    checkpoint_callback = keras.callbacks.ModelCheckpoint(\n",
        "        checkpoint_filepath,\n",
        "        monitor=\"val_accuracy\",\n",
        "        save_best_only=True,\n",
        "        save_weights_only=True,\n",
        "    )\n",
        "\n",
        "    history = model.fit(\n",
        "        x=X_train,\n",
        "        y=y_train,\n",
        "        batch_size=batch_size,\n",
        "        epochs=num_epochs,\n",
        "        validation_split=0.1,\n",
        "        callbacks=[checkpoint_callback],\n",
        "    )\n",
        "\n",
        "    model.load_weights(checkpoint_filepath)\n",
        "    _, accuracy, top_5_accuracy = model.evaluate(X_test, y_test)\n",
        "    print(f\"Test accuracy: {round(accuracy * 100, 2)}%\")\n",
        "    print(f\"Test top 5 accuracy: {round(top_5_accuracy * 100, 2)}%\")\n",
        "\n",
        "    return history\n",
        "\n",
        "vit_classifier = create_vit_classifier()\n",
        "history = run_experiment(vit_classifier)"
      ],
      "execution_count": null,
      "outputs": [
        {
          "output_type": "stream",
          "name": "stdout",
          "text": [
            "Epoch 1/100\n",
            "4/4 [==============================] - 63s 12s/step - loss: 10.6559 - accuracy: 0.5401 - top-5-accuracy: 1.0000 - val_loss: 2.8453 - val_accuracy: 0.3871 - val_top-5-accuracy: 1.0000\n",
            "Epoch 2/100\n",
            "4/4 [==============================] - 49s 12s/step - loss: 2.4929 - accuracy: 0.5988 - top-5-accuracy: 1.0000 - val_loss: 1.8265 - val_accuracy: 0.6237 - val_top-5-accuracy: 1.0000\n",
            "Epoch 3/100\n",
            "4/4 [==============================] - 49s 12s/step - loss: 1.6724 - accuracy: 0.6132 - top-5-accuracy: 1.0000 - val_loss: 1.2032 - val_accuracy: 0.6344 - val_top-5-accuracy: 1.0000\n",
            "Epoch 4/100\n",
            "4/4 [==============================] - 49s 12s/step - loss: 1.1179 - accuracy: 0.6910 - top-5-accuracy: 1.0000 - val_loss: 0.7472 - val_accuracy: 0.6559 - val_top-5-accuracy: 1.0000\n",
            "Epoch 5/100\n",
            "4/4 [==============================] - 51s 12s/step - loss: 0.7406 - accuracy: 0.7293 - top-5-accuracy: 1.0000 - val_loss: 0.5892 - val_accuracy: 0.7849 - val_top-5-accuracy: 1.0000\n",
            "Epoch 6/100\n",
            "4/4 [==============================] - 51s 12s/step - loss: 0.5752 - accuracy: 0.7988 - top-5-accuracy: 1.0000 - val_loss: 0.3419 - val_accuracy: 0.8710 - val_top-5-accuracy: 1.0000\n",
            "Epoch 7/100\n",
            "4/4 [==============================] - 49s 11s/step - loss: 0.4958 - accuracy: 0.8060 - top-5-accuracy: 1.0000 - val_loss: 0.3279 - val_accuracy: 0.8602 - val_top-5-accuracy: 1.0000\n",
            "Epoch 8/100\n",
            "4/4 [==============================] - 49s 11s/step - loss: 0.4847 - accuracy: 0.7892 - top-5-accuracy: 1.0000 - val_loss: 0.3332 - val_accuracy: 0.8495 - val_top-5-accuracy: 1.0000\n",
            "Epoch 9/100\n",
            "4/4 [==============================] - 49s 12s/step - loss: 0.4589 - accuracy: 0.8120 - top-5-accuracy: 1.0000 - val_loss: 0.3380 - val_accuracy: 0.8172 - val_top-5-accuracy: 1.0000\n",
            "Epoch 10/100\n",
            "4/4 [==============================] - 49s 11s/step - loss: 0.4199 - accuracy: 0.8275 - top-5-accuracy: 1.0000 - val_loss: 0.3246 - val_accuracy: 0.8495 - val_top-5-accuracy: 1.0000\n",
            "Epoch 11/100\n",
            "4/4 [==============================] - 49s 12s/step - loss: 0.4419 - accuracy: 0.8156 - top-5-accuracy: 1.0000 - val_loss: 0.3276 - val_accuracy: 0.8495 - val_top-5-accuracy: 1.0000\n",
            "Epoch 12/100\n",
            "4/4 [==============================] - 49s 11s/step - loss: 0.3945 - accuracy: 0.8323 - top-5-accuracy: 1.0000 - val_loss: 0.2949 - val_accuracy: 0.8495 - val_top-5-accuracy: 1.0000\n",
            "Epoch 13/100\n",
            "4/4 [==============================] - 49s 11s/step - loss: 0.4148 - accuracy: 0.8251 - top-5-accuracy: 1.0000 - val_loss: 0.3933 - val_accuracy: 0.8065 - val_top-5-accuracy: 1.0000\n",
            "Epoch 14/100\n",
            "4/4 [==============================] - 49s 11s/step - loss: 0.3573 - accuracy: 0.8335 - top-5-accuracy: 1.0000 - val_loss: 0.2922 - val_accuracy: 0.8710 - val_top-5-accuracy: 1.0000\n",
            "Epoch 15/100\n",
            "4/4 [==============================] - 49s 11s/step - loss: 0.3623 - accuracy: 0.8527 - top-5-accuracy: 1.0000 - val_loss: 0.3313 - val_accuracy: 0.8602 - val_top-5-accuracy: 1.0000\n",
            "Epoch 16/100\n",
            "4/4 [==============================] - 50s 12s/step - loss: 0.3089 - accuracy: 0.8671 - top-5-accuracy: 1.0000 - val_loss: 0.2687 - val_accuracy: 0.9032 - val_top-5-accuracy: 1.0000\n",
            "Epoch 17/100\n",
            "4/4 [==============================] - 49s 11s/step - loss: 0.2913 - accuracy: 0.8611 - top-5-accuracy: 1.0000 - val_loss: 0.2753 - val_accuracy: 0.8817 - val_top-5-accuracy: 1.0000\n",
            "Epoch 18/100\n",
            "4/4 [==============================] - 52s 12s/step - loss: 0.2567 - accuracy: 0.8862 - top-5-accuracy: 1.0000 - val_loss: 0.2771 - val_accuracy: 0.8602 - val_top-5-accuracy: 1.0000\n",
            "Epoch 19/100\n",
            "4/4 [==============================] - 49s 12s/step - loss: 0.2828 - accuracy: 0.8754 - top-5-accuracy: 1.0000 - val_loss: 0.2656 - val_accuracy: 0.8817 - val_top-5-accuracy: 1.0000\n",
            "Epoch 20/100\n",
            "4/4 [==============================] - 49s 12s/step - loss: 0.2825 - accuracy: 0.8647 - top-5-accuracy: 1.0000 - val_loss: 0.2792 - val_accuracy: 0.9032 - val_top-5-accuracy: 1.0000\n",
            "Epoch 21/100\n",
            "4/4 [==============================] - 50s 12s/step - loss: 0.2703 - accuracy: 0.8766 - top-5-accuracy: 1.0000 - val_loss: 0.2512 - val_accuracy: 0.9140 - val_top-5-accuracy: 1.0000\n",
            "Epoch 22/100\n",
            "4/4 [==============================] - 49s 11s/step - loss: 0.2735 - accuracy: 0.8814 - top-5-accuracy: 1.0000 - val_loss: 0.2405 - val_accuracy: 0.9140 - val_top-5-accuracy: 1.0000\n",
            "Epoch 23/100\n",
            "4/4 [==============================] - 49s 11s/step - loss: 0.2627 - accuracy: 0.8838 - top-5-accuracy: 1.0000 - val_loss: 0.2974 - val_accuracy: 0.8710 - val_top-5-accuracy: 1.0000\n",
            "Epoch 24/100\n",
            "4/4 [==============================] - 48s 11s/step - loss: 0.2431 - accuracy: 0.8886 - top-5-accuracy: 1.0000 - val_loss: 0.2323 - val_accuracy: 0.8817 - val_top-5-accuracy: 1.0000\n",
            "Epoch 25/100\n",
            "4/4 [==============================] - 48s 11s/step - loss: 0.2357 - accuracy: 0.9006 - top-5-accuracy: 1.0000 - val_loss: 0.2644 - val_accuracy: 0.8387 - val_top-5-accuracy: 1.0000\n",
            "Epoch 26/100\n",
            "4/4 [==============================] - 49s 12s/step - loss: 0.2591 - accuracy: 0.8874 - top-5-accuracy: 1.0000 - val_loss: 0.1796 - val_accuracy: 0.9355 - val_top-5-accuracy: 1.0000\n",
            "Epoch 27/100\n",
            "4/4 [==============================] - 48s 11s/step - loss: 0.2075 - accuracy: 0.9102 - top-5-accuracy: 1.0000 - val_loss: 0.2110 - val_accuracy: 0.9140 - val_top-5-accuracy: 1.0000\n",
            "Epoch 28/100\n",
            "4/4 [==============================] - 49s 12s/step - loss: 0.2620 - accuracy: 0.8958 - top-5-accuracy: 1.0000 - val_loss: 0.2645 - val_accuracy: 0.9032 - val_top-5-accuracy: 1.0000\n",
            "Epoch 29/100\n",
            "4/4 [==============================] - 49s 12s/step - loss: 0.2158 - accuracy: 0.9066 - top-5-accuracy: 1.0000 - val_loss: 0.1877 - val_accuracy: 0.9247 - val_top-5-accuracy: 1.0000\n",
            "Epoch 30/100\n",
            "4/4 [==============================] - 53s 13s/step - loss: 0.2381 - accuracy: 0.9042 - top-5-accuracy: 1.0000 - val_loss: 0.3129 - val_accuracy: 0.9032 - val_top-5-accuracy: 1.0000\n",
            "Epoch 31/100\n",
            "4/4 [==============================] - 49s 11s/step - loss: 0.2504 - accuracy: 0.8826 - top-5-accuracy: 1.0000 - val_loss: 0.2790 - val_accuracy: 0.9247 - val_top-5-accuracy: 1.0000\n",
            "Epoch 32/100\n",
            "4/4 [==============================] - 49s 11s/step - loss: 0.2145 - accuracy: 0.9042 - top-5-accuracy: 1.0000 - val_loss: 0.3088 - val_accuracy: 0.8710 - val_top-5-accuracy: 1.0000\n",
            "Epoch 33/100\n",
            "4/4 [==============================] - 49s 11s/step - loss: 0.2317 - accuracy: 0.9090 - top-5-accuracy: 1.0000 - val_loss: 0.3179 - val_accuracy: 0.9032 - val_top-5-accuracy: 1.0000\n",
            "Epoch 34/100\n",
            "4/4 [==============================] - 49s 11s/step - loss: 0.2397 - accuracy: 0.9006 - top-5-accuracy: 1.0000 - val_loss: 0.2015 - val_accuracy: 0.9140 - val_top-5-accuracy: 1.0000\n",
            "Epoch 35/100\n",
            "4/4 [==============================] - 49s 11s/step - loss: 0.1817 - accuracy: 0.9150 - top-5-accuracy: 1.0000 - val_loss: 0.1803 - val_accuracy: 0.8925 - val_top-5-accuracy: 1.0000\n",
            "Epoch 36/100\n",
            "4/4 [==============================] - 49s 11s/step - loss: 0.1729 - accuracy: 0.9234 - top-5-accuracy: 1.0000 - val_loss: 0.2152 - val_accuracy: 0.8925 - val_top-5-accuracy: 1.0000\n",
            "Epoch 37/100\n",
            "4/4 [==============================] - 49s 11s/step - loss: 0.2064 - accuracy: 0.9102 - top-5-accuracy: 1.0000 - val_loss: 0.2152 - val_accuracy: 0.9032 - val_top-5-accuracy: 1.0000\n",
            "Epoch 38/100\n",
            "4/4 [==============================] - 49s 12s/step - loss: 0.1738 - accuracy: 0.9198 - top-5-accuracy: 1.0000 - val_loss: 0.1971 - val_accuracy: 0.9032 - val_top-5-accuracy: 1.0000\n",
            "Epoch 39/100\n",
            "4/4 [==============================] - 49s 12s/step - loss: 0.1519 - accuracy: 0.9305 - top-5-accuracy: 1.0000 - val_loss: 0.1647 - val_accuracy: 0.9247 - val_top-5-accuracy: 1.0000\n",
            "Epoch 40/100\n",
            "4/4 [==============================] - 49s 12s/step - loss: 0.1653 - accuracy: 0.9281 - top-5-accuracy: 1.0000 - val_loss: 0.2462 - val_accuracy: 0.9140 - val_top-5-accuracy: 1.0000\n",
            "Epoch 41/100\n",
            "4/4 [==============================] - 49s 11s/step - loss: 0.1548 - accuracy: 0.9305 - top-5-accuracy: 1.0000 - val_loss: 0.3378 - val_accuracy: 0.8817 - val_top-5-accuracy: 1.0000\n",
            "Epoch 42/100\n",
            "4/4 [==============================] - 49s 12s/step - loss: 0.1651 - accuracy: 0.9222 - top-5-accuracy: 1.0000 - val_loss: 0.2523 - val_accuracy: 0.9247 - val_top-5-accuracy: 1.0000\n",
            "Epoch 43/100\n",
            "4/4 [==============================] - 54s 12s/step - loss: 0.1624 - accuracy: 0.9305 - top-5-accuracy: 1.0000 - val_loss: 0.4096 - val_accuracy: 0.8710 - val_top-5-accuracy: 1.0000\n",
            "Epoch 44/100\n",
            "4/4 [==============================] - 49s 12s/step - loss: 0.1797 - accuracy: 0.9281 - top-5-accuracy: 1.0000 - val_loss: 0.2656 - val_accuracy: 0.9140 - val_top-5-accuracy: 1.0000\n",
            "Epoch 45/100\n",
            "4/4 [==============================] - 49s 11s/step - loss: 0.1337 - accuracy: 0.9413 - top-5-accuracy: 1.0000 - val_loss: 0.1796 - val_accuracy: 0.9247 - val_top-5-accuracy: 1.0000\n",
            "Epoch 46/100\n",
            "4/4 [==============================] - 49s 12s/step - loss: 0.1510 - accuracy: 0.9377 - top-5-accuracy: 1.0000 - val_loss: 0.3134 - val_accuracy: 0.9140 - val_top-5-accuracy: 1.0000\n",
            "Epoch 47/100\n",
            "4/4 [==============================] - 49s 12s/step - loss: 0.1715 - accuracy: 0.9329 - top-5-accuracy: 1.0000 - val_loss: 0.2645 - val_accuracy: 0.9247 - val_top-5-accuracy: 1.0000\n",
            "Epoch 48/100\n",
            "4/4 [==============================] - 49s 12s/step - loss: 0.1214 - accuracy: 0.9521 - top-5-accuracy: 1.0000 - val_loss: 0.4622 - val_accuracy: 0.8925 - val_top-5-accuracy: 1.0000\n",
            "Epoch 49/100\n",
            "4/4 [==============================] - 49s 12s/step - loss: 0.1625 - accuracy: 0.9293 - top-5-accuracy: 1.0000 - val_loss: 0.2023 - val_accuracy: 0.9140 - val_top-5-accuracy: 1.0000\n",
            "Epoch 50/100\n",
            "4/4 [==============================] - 49s 12s/step - loss: 0.1824 - accuracy: 0.9293 - top-5-accuracy: 1.0000 - val_loss: 0.3231 - val_accuracy: 0.9355 - val_top-5-accuracy: 1.0000\n",
            "Epoch 51/100\n",
            "4/4 [==============================] - 49s 11s/step - loss: 0.2130 - accuracy: 0.9246 - top-5-accuracy: 1.0000 - val_loss: 0.2135 - val_accuracy: 0.9355 - val_top-5-accuracy: 1.0000\n",
            "Epoch 52/100\n",
            "4/4 [==============================] - 49s 12s/step - loss: 0.2289 - accuracy: 0.9150 - top-5-accuracy: 1.0000 - val_loss: 0.2606 - val_accuracy: 0.8925 - val_top-5-accuracy: 1.0000\n",
            "Epoch 53/100\n",
            "4/4 [==============================] - 49s 11s/step - loss: 0.1883 - accuracy: 0.9293 - top-5-accuracy: 1.0000 - val_loss: 0.2239 - val_accuracy: 0.9032 - val_top-5-accuracy: 1.0000\n",
            "Epoch 54/100\n",
            "4/4 [==============================] - 49s 11s/step - loss: 0.1755 - accuracy: 0.9222 - top-5-accuracy: 1.0000 - val_loss: 0.1718 - val_accuracy: 0.9140 - val_top-5-accuracy: 1.0000\n",
            "Epoch 55/100\n",
            "4/4 [==============================] - 53s 13s/step - loss: 0.1608 - accuracy: 0.9281 - top-5-accuracy: 1.0000 - val_loss: 0.2198 - val_accuracy: 0.9355 - val_top-5-accuracy: 1.0000\n",
            "Epoch 56/100\n",
            "4/4 [==============================] - 49s 12s/step - loss: 0.1432 - accuracy: 0.9401 - top-5-accuracy: 1.0000 - val_loss: 0.2360 - val_accuracy: 0.9355 - val_top-5-accuracy: 1.0000\n",
            "Epoch 57/100\n",
            "4/4 [==============================] - 49s 12s/step - loss: 0.1292 - accuracy: 0.9497 - top-5-accuracy: 1.0000 - val_loss: 0.1645 - val_accuracy: 0.9247 - val_top-5-accuracy: 1.0000\n",
            "Epoch 58/100\n",
            "4/4 [==============================] - 49s 12s/step - loss: 0.1405 - accuracy: 0.9437 - top-5-accuracy: 1.0000 - val_loss: 0.1649 - val_accuracy: 0.9355 - val_top-5-accuracy: 1.0000\n",
            "Epoch 59/100\n",
            "4/4 [==============================] - 49s 12s/step - loss: 0.1086 - accuracy: 0.9533 - top-5-accuracy: 1.0000 - val_loss: 0.1904 - val_accuracy: 0.9355 - val_top-5-accuracy: 1.0000\n",
            "Epoch 60/100\n",
            "4/4 [==============================] - 49s 12s/step - loss: 0.1160 - accuracy: 0.9545 - top-5-accuracy: 1.0000 - val_loss: 0.2851 - val_accuracy: 0.8925 - val_top-5-accuracy: 1.0000\n",
            "Epoch 61/100\n",
            "4/4 [==============================] - 50s 12s/step - loss: 0.1187 - accuracy: 0.9449 - top-5-accuracy: 1.0000 - val_loss: 0.1809 - val_accuracy: 0.9462 - val_top-5-accuracy: 1.0000\n",
            "Epoch 62/100\n",
            "4/4 [==============================] - 49s 12s/step - loss: 0.0954 - accuracy: 0.9557 - top-5-accuracy: 1.0000 - val_loss: 0.1738 - val_accuracy: 0.9355 - val_top-5-accuracy: 1.0000\n",
            "Epoch 63/100\n",
            "4/4 [==============================] - 49s 12s/step - loss: 0.1030 - accuracy: 0.9569 - top-5-accuracy: 1.0000 - val_loss: 0.1736 - val_accuracy: 0.9462 - val_top-5-accuracy: 1.0000\n",
            "Epoch 64/100\n",
            "4/4 [==============================] - 49s 12s/step - loss: 0.1020 - accuracy: 0.9629 - top-5-accuracy: 1.0000 - val_loss: 0.3145 - val_accuracy: 0.8925 - val_top-5-accuracy: 1.0000\n",
            "Epoch 65/100\n",
            "4/4 [==============================] - 51s 12s/step - loss: 0.1295 - accuracy: 0.9533 - top-5-accuracy: 1.0000 - val_loss: 0.1728 - val_accuracy: 0.9570 - val_top-5-accuracy: 1.0000\n",
            "Epoch 66/100\n",
            "4/4 [==============================] - 50s 12s/step - loss: 0.1139 - accuracy: 0.9557 - top-5-accuracy: 1.0000 - val_loss: 0.2521 - val_accuracy: 0.9032 - val_top-5-accuracy: 1.0000\n",
            "Epoch 67/100\n",
            "4/4 [==============================] - 55s 14s/step - loss: 0.1025 - accuracy: 0.9533 - top-5-accuracy: 1.0000 - val_loss: 0.1744 - val_accuracy: 0.9355 - val_top-5-accuracy: 1.0000\n",
            "Epoch 68/100\n",
            "4/4 [==============================] - 50s 12s/step - loss: 0.0914 - accuracy: 0.9593 - top-5-accuracy: 1.0000 - val_loss: 0.2664 - val_accuracy: 0.9247 - val_top-5-accuracy: 1.0000\n",
            "Epoch 69/100\n",
            "4/4 [==============================] - 50s 12s/step - loss: 0.0860 - accuracy: 0.9629 - top-5-accuracy: 1.0000 - val_loss: 0.2251 - val_accuracy: 0.9570 - val_top-5-accuracy: 1.0000\n",
            "Epoch 70/100\n",
            "4/4 [==============================] - 50s 12s/step - loss: 0.0901 - accuracy: 0.9581 - top-5-accuracy: 1.0000 - val_loss: 0.2260 - val_accuracy: 0.9247 - val_top-5-accuracy: 1.0000\n",
            "Epoch 71/100\n",
            "4/4 [==============================] - 49s 12s/step - loss: 0.0753 - accuracy: 0.9713 - top-5-accuracy: 1.0000 - val_loss: 0.2481 - val_accuracy: 0.9462 - val_top-5-accuracy: 1.0000\n",
            "Epoch 72/100\n",
            "4/4 [==============================] - 50s 12s/step - loss: 0.0841 - accuracy: 0.9653 - top-5-accuracy: 1.0000 - val_loss: 0.2529 - val_accuracy: 0.9462 - val_top-5-accuracy: 1.0000\n",
            "Epoch 73/100\n",
            "4/4 [==============================] - 52s 12s/step - loss: 0.0755 - accuracy: 0.9701 - top-5-accuracy: 1.0000 - val_loss: 0.2496 - val_accuracy: 0.9462 - val_top-5-accuracy: 1.0000\n",
            "Epoch 74/100\n",
            "4/4 [==============================] - 50s 12s/step - loss: 0.0767 - accuracy: 0.9689 - top-5-accuracy: 1.0000 - val_loss: 0.3792 - val_accuracy: 0.9247 - val_top-5-accuracy: 1.0000\n",
            "Epoch 75/100\n",
            "4/4 [==============================] - 50s 12s/step - loss: 0.1055 - accuracy: 0.9617 - top-5-accuracy: 1.0000 - val_loss: 0.2852 - val_accuracy: 0.9570 - val_top-5-accuracy: 1.0000\n",
            "Epoch 76/100\n",
            "4/4 [==============================] - 50s 12s/step - loss: 0.0844 - accuracy: 0.9665 - top-5-accuracy: 1.0000 - val_loss: 0.2806 - val_accuracy: 0.9462 - val_top-5-accuracy: 1.0000\n",
            "Epoch 77/100\n",
            "4/4 [==============================] - 50s 12s/step - loss: 0.0873 - accuracy: 0.9653 - top-5-accuracy: 1.0000 - val_loss: 0.2490 - val_accuracy: 0.9570 - val_top-5-accuracy: 1.0000\n",
            "Epoch 78/100\n",
            "4/4 [==============================] - 50s 12s/step - loss: 0.1037 - accuracy: 0.9545 - top-5-accuracy: 1.0000 - val_loss: 0.2975 - val_accuracy: 0.9355 - val_top-5-accuracy: 1.0000\n",
            "Epoch 79/100\n",
            "4/4 [==============================] - 57s 14s/step - loss: 0.0806 - accuracy: 0.9593 - top-5-accuracy: 1.0000 - val_loss: 0.3296 - val_accuracy: 0.9355 - val_top-5-accuracy: 1.0000\n",
            "Epoch 80/100\n",
            "4/4 [==============================] - 50s 12s/step - loss: 0.0748 - accuracy: 0.9629 - top-5-accuracy: 1.0000 - val_loss: 0.3789 - val_accuracy: 0.9247 - val_top-5-accuracy: 1.0000\n",
            "Epoch 81/100\n",
            "4/4 [==============================] - 50s 12s/step - loss: 0.0847 - accuracy: 0.9665 - top-5-accuracy: 1.0000 - val_loss: 0.4213 - val_accuracy: 0.9355 - val_top-5-accuracy: 1.0000\n",
            "Epoch 82/100\n",
            "4/4 [==============================] - 49s 12s/step - loss: 0.0676 - accuracy: 0.9772 - top-5-accuracy: 1.0000 - val_loss: 0.3636 - val_accuracy: 0.9462 - val_top-5-accuracy: 1.0000\n",
            "Epoch 83/100\n",
            "4/4 [==============================] - 50s 12s/step - loss: 0.0687 - accuracy: 0.9701 - top-5-accuracy: 1.0000 - val_loss: 0.3888 - val_accuracy: 0.9462 - val_top-5-accuracy: 1.0000\n",
            "Epoch 84/100\n",
            "4/4 [==============================] - 50s 12s/step - loss: 0.0636 - accuracy: 0.9772 - top-5-accuracy: 1.0000 - val_loss: 0.3794 - val_accuracy: 0.9570 - val_top-5-accuracy: 1.0000\n",
            "Epoch 85/100\n",
            "4/4 [==============================] - 49s 12s/step - loss: 0.0641 - accuracy: 0.9713 - top-5-accuracy: 1.0000 - val_loss: 0.3475 - val_accuracy: 0.9462 - val_top-5-accuracy: 1.0000\n",
            "Epoch 86/100\n",
            "4/4 [==============================] - 50s 12s/step - loss: 0.0589 - accuracy: 0.9749 - top-5-accuracy: 1.0000 - val_loss: 0.2915 - val_accuracy: 0.9247 - val_top-5-accuracy: 1.0000\n",
            "Epoch 87/100\n",
            "4/4 [==============================] - 50s 12s/step - loss: 0.0736 - accuracy: 0.9772 - top-5-accuracy: 1.0000 - val_loss: 0.2007 - val_accuracy: 0.9570 - val_top-5-accuracy: 1.0000\n",
            "Epoch 88/100\n",
            "4/4 [==============================] - 50s 12s/step - loss: 0.0842 - accuracy: 0.9713 - top-5-accuracy: 1.0000 - val_loss: 0.2821 - val_accuracy: 0.9355 - val_top-5-accuracy: 1.0000\n",
            "Epoch 89/100\n",
            "4/4 [==============================] - 50s 12s/step - loss: 0.0574 - accuracy: 0.9784 - top-5-accuracy: 1.0000 - val_loss: 0.2699 - val_accuracy: 0.9570 - val_top-5-accuracy: 1.0000\n",
            "Epoch 90/100\n",
            "4/4 [==============================] - 50s 12s/step - loss: 0.0658 - accuracy: 0.9772 - top-5-accuracy: 1.0000 - val_loss: 0.3334 - val_accuracy: 0.9355 - val_top-5-accuracy: 1.0000\n",
            "Epoch 91/100\n",
            "4/4 [==============================] - 53s 13s/step - loss: 0.0773 - accuracy: 0.9713 - top-5-accuracy: 1.0000 - val_loss: 0.3594 - val_accuracy: 0.9355 - val_top-5-accuracy: 1.0000\n",
            "Epoch 92/100\n",
            "4/4 [==============================] - 51s 12s/step - loss: 0.0863 - accuracy: 0.9629 - top-5-accuracy: 1.0000 - val_loss: 0.3178 - val_accuracy: 0.9355 - val_top-5-accuracy: 1.0000\n",
            "Epoch 93/100\n",
            "4/4 [==============================] - 50s 12s/step - loss: 0.0718 - accuracy: 0.9677 - top-5-accuracy: 1.0000 - val_loss: 0.4495 - val_accuracy: 0.9247 - val_top-5-accuracy: 1.0000\n",
            "Epoch 94/100\n",
            "4/4 [==============================] - 50s 12s/step - loss: 0.0760 - accuracy: 0.9689 - top-5-accuracy: 1.0000 - val_loss: 0.4171 - val_accuracy: 0.9140 - val_top-5-accuracy: 1.0000\n",
            "Epoch 95/100\n",
            "4/4 [==============================] - 50s 12s/step - loss: 0.0524 - accuracy: 0.9725 - top-5-accuracy: 1.0000 - val_loss: 0.3188 - val_accuracy: 0.9462 - val_top-5-accuracy: 1.0000\n",
            "Epoch 96/100\n",
            "4/4 [==============================] - 50s 12s/step - loss: 0.0544 - accuracy: 0.9772 - top-5-accuracy: 1.0000 - val_loss: 0.2719 - val_accuracy: 0.9570 - val_top-5-accuracy: 1.0000\n",
            "Epoch 97/100\n",
            "4/4 [==============================] - 50s 12s/step - loss: 0.0517 - accuracy: 0.9749 - top-5-accuracy: 1.0000 - val_loss: 0.4038 - val_accuracy: 0.9140 - val_top-5-accuracy: 1.0000\n",
            "Epoch 98/100\n",
            "4/4 [==============================] - 50s 12s/step - loss: 0.0628 - accuracy: 0.9689 - top-5-accuracy: 1.0000 - val_loss: 0.2308 - val_accuracy: 0.9570 - val_top-5-accuracy: 1.0000\n",
            "Epoch 99/100\n",
            "4/4 [==============================] - 50s 12s/step - loss: 0.0714 - accuracy: 0.9713 - top-5-accuracy: 1.0000 - val_loss: 0.2519 - val_accuracy: 0.9462 - val_top-5-accuracy: 1.0000\n",
            "Epoch 100/100\n",
            "4/4 [==============================] - 50s 12s/step - loss: 0.0694 - accuracy: 0.9689 - top-5-accuracy: 1.0000 - val_loss: 0.2863 - val_accuracy: 0.9462 - val_top-5-accuracy: 1.0000\n",
            "8/8 [==============================] - 4s 539ms/step - loss: 0.2032 - accuracy: 0.9224 - top-5-accuracy: 1.0000\n",
            "Test accuracy: 92.24%\n",
            "Test top 5 accuracy: 100.0%\n"
          ]
        }
      ]
    }
  ]
}